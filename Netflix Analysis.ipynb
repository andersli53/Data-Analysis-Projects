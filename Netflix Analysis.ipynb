{
 "cells": [
  {
   "cell_type": "code",
   "execution_count": 1,
   "metadata": {},
   "outputs": [],
   "source": [
    "import numpy as np\n",
    "import pandas as pd\n",
    "import matplotlib.pyplot as plt"
   ]
  },
  {
   "cell_type": "code",
   "execution_count": 2,
   "metadata": {},
   "outputs": [
    {
     "data": {
      "text/html": [
       "<div>\n",
       "<style scoped>\n",
       "    .dataframe tbody tr th:only-of-type {\n",
       "        vertical-align: middle;\n",
       "    }\n",
       "\n",
       "    .dataframe tbody tr th {\n",
       "        vertical-align: top;\n",
       "    }\n",
       "\n",
       "    .dataframe thead th {\n",
       "        text-align: right;\n",
       "    }\n",
       "</style>\n",
       "<table border=\"1\" class=\"dataframe\">\n",
       "  <thead>\n",
       "    <tr style=\"text-align: right;\">\n",
       "      <th></th>\n",
       "      <th>show_id</th>\n",
       "      <th>type</th>\n",
       "      <th>title</th>\n",
       "      <th>director</th>\n",
       "      <th>cast</th>\n",
       "      <th>country</th>\n",
       "      <th>date_added</th>\n",
       "      <th>release_year</th>\n",
       "      <th>rating</th>\n",
       "      <th>duration</th>\n",
       "      <th>listed_in</th>\n",
       "      <th>description</th>\n",
       "    </tr>\n",
       "  </thead>\n",
       "  <tbody>\n",
       "    <tr>\n",
       "      <td>0</td>\n",
       "      <td>81145628</td>\n",
       "      <td>Movie</td>\n",
       "      <td>Norm of the North: King Sized Adventure</td>\n",
       "      <td>Richard Finn, Tim Maltby</td>\n",
       "      <td>Alan Marriott, Andrew Toth, Brian Dobson, Cole...</td>\n",
       "      <td>United States, India, South Korea, China</td>\n",
       "      <td>September 9, 2019</td>\n",
       "      <td>2019</td>\n",
       "      <td>TV-PG</td>\n",
       "      <td>90 min</td>\n",
       "      <td>Children &amp; Family Movies, Comedies</td>\n",
       "      <td>Before planning an awesome wedding for his gra...</td>\n",
       "    </tr>\n",
       "    <tr>\n",
       "      <td>1</td>\n",
       "      <td>80117401</td>\n",
       "      <td>Movie</td>\n",
       "      <td>Jandino: Whatever it Takes</td>\n",
       "      <td>NaN</td>\n",
       "      <td>Jandino Asporaat</td>\n",
       "      <td>United Kingdom</td>\n",
       "      <td>September 9, 2016</td>\n",
       "      <td>2016</td>\n",
       "      <td>TV-MA</td>\n",
       "      <td>94 min</td>\n",
       "      <td>Stand-Up Comedy</td>\n",
       "      <td>Jandino Asporaat riffs on the challenges of ra...</td>\n",
       "    </tr>\n",
       "    <tr>\n",
       "      <td>2</td>\n",
       "      <td>70234439</td>\n",
       "      <td>TV Show</td>\n",
       "      <td>Transformers Prime</td>\n",
       "      <td>NaN</td>\n",
       "      <td>Peter Cullen, Sumalee Montano, Frank Welker, J...</td>\n",
       "      <td>United States</td>\n",
       "      <td>September 8, 2018</td>\n",
       "      <td>2013</td>\n",
       "      <td>TV-Y7-FV</td>\n",
       "      <td>1 Season</td>\n",
       "      <td>Kids' TV</td>\n",
       "      <td>With the help of three human allies, the Autob...</td>\n",
       "    </tr>\n",
       "    <tr>\n",
       "      <td>3</td>\n",
       "      <td>80058654</td>\n",
       "      <td>TV Show</td>\n",
       "      <td>Transformers: Robots in Disguise</td>\n",
       "      <td>NaN</td>\n",
       "      <td>Will Friedle, Darren Criss, Constance Zimmer, ...</td>\n",
       "      <td>United States</td>\n",
       "      <td>September 8, 2018</td>\n",
       "      <td>2016</td>\n",
       "      <td>TV-Y7</td>\n",
       "      <td>1 Season</td>\n",
       "      <td>Kids' TV</td>\n",
       "      <td>When a prison ship crash unleashes hundreds of...</td>\n",
       "    </tr>\n",
       "    <tr>\n",
       "      <td>4</td>\n",
       "      <td>80125979</td>\n",
       "      <td>Movie</td>\n",
       "      <td>#realityhigh</td>\n",
       "      <td>Fernando Lebrija</td>\n",
       "      <td>Nesta Cooper, Kate Walsh, John Michael Higgins...</td>\n",
       "      <td>United States</td>\n",
       "      <td>September 8, 2017</td>\n",
       "      <td>2017</td>\n",
       "      <td>TV-14</td>\n",
       "      <td>99 min</td>\n",
       "      <td>Comedies</td>\n",
       "      <td>When nerdy high schooler Dani finally attracts...</td>\n",
       "    </tr>\n",
       "  </tbody>\n",
       "</table>\n",
       "</div>"
      ],
      "text/plain": [
       "    show_id     type                                    title  \\\n",
       "0  81145628    Movie  Norm of the North: King Sized Adventure   \n",
       "1  80117401    Movie               Jandino: Whatever it Takes   \n",
       "2  70234439  TV Show                       Transformers Prime   \n",
       "3  80058654  TV Show         Transformers: Robots in Disguise   \n",
       "4  80125979    Movie                             #realityhigh   \n",
       "\n",
       "                   director  \\\n",
       "0  Richard Finn, Tim Maltby   \n",
       "1                       NaN   \n",
       "2                       NaN   \n",
       "3                       NaN   \n",
       "4          Fernando Lebrija   \n",
       "\n",
       "                                                cast  \\\n",
       "0  Alan Marriott, Andrew Toth, Brian Dobson, Cole...   \n",
       "1                                   Jandino Asporaat   \n",
       "2  Peter Cullen, Sumalee Montano, Frank Welker, J...   \n",
       "3  Will Friedle, Darren Criss, Constance Zimmer, ...   \n",
       "4  Nesta Cooper, Kate Walsh, John Michael Higgins...   \n",
       "\n",
       "                                    country         date_added  release_year  \\\n",
       "0  United States, India, South Korea, China  September 9, 2019          2019   \n",
       "1                            United Kingdom  September 9, 2016          2016   \n",
       "2                             United States  September 8, 2018          2013   \n",
       "3                             United States  September 8, 2018          2016   \n",
       "4                             United States  September 8, 2017          2017   \n",
       "\n",
       "     rating  duration                           listed_in  \\\n",
       "0     TV-PG    90 min  Children & Family Movies, Comedies   \n",
       "1     TV-MA    94 min                     Stand-Up Comedy   \n",
       "2  TV-Y7-FV  1 Season                            Kids' TV   \n",
       "3     TV-Y7  1 Season                            Kids' TV   \n",
       "4     TV-14    99 min                            Comedies   \n",
       "\n",
       "                                         description  \n",
       "0  Before planning an awesome wedding for his gra...  \n",
       "1  Jandino Asporaat riffs on the challenges of ra...  \n",
       "2  With the help of three human allies, the Autob...  \n",
       "3  When a prison ship crash unleashes hundreds of...  \n",
       "4  When nerdy high schooler Dani finally attracts...  "
      ]
     },
     "execution_count": 2,
     "metadata": {},
     "output_type": "execute_result"
    }
   ],
   "source": [
    "#Import dataset\n",
    "dataset = pd.read_csv('netflix_titles.csv')\n",
    "dataset.head()"
   ]
  },
  {
   "cell_type": "code",
   "execution_count": 3,
   "metadata": {},
   "outputs": [
    {
     "data": {
      "text/html": [
       "<div>\n",
       "<style scoped>\n",
       "    .dataframe tbody tr th:only-of-type {\n",
       "        vertical-align: middle;\n",
       "    }\n",
       "\n",
       "    .dataframe tbody tr th {\n",
       "        vertical-align: top;\n",
       "    }\n",
       "\n",
       "    .dataframe thead th {\n",
       "        text-align: right;\n",
       "    }\n",
       "</style>\n",
       "<table border=\"1\" class=\"dataframe\">\n",
       "  <thead>\n",
       "    <tr style=\"text-align: right;\">\n",
       "      <th></th>\n",
       "      <th>type</th>\n",
       "      <th>country</th>\n",
       "      <th>date_added</th>\n",
       "      <th>release_year</th>\n",
       "      <th>listed_in</th>\n",
       "    </tr>\n",
       "  </thead>\n",
       "  <tbody>\n",
       "    <tr>\n",
       "      <td>0</td>\n",
       "      <td>Movie</td>\n",
       "      <td>United States, India, South Korea, China</td>\n",
       "      <td>September 9, 2019</td>\n",
       "      <td>2019</td>\n",
       "      <td>Children &amp; Family Movies, Comedies</td>\n",
       "    </tr>\n",
       "    <tr>\n",
       "      <td>1</td>\n",
       "      <td>Movie</td>\n",
       "      <td>United Kingdom</td>\n",
       "      <td>September 9, 2016</td>\n",
       "      <td>2016</td>\n",
       "      <td>Stand-Up Comedy</td>\n",
       "    </tr>\n",
       "    <tr>\n",
       "      <td>2</td>\n",
       "      <td>TV Show</td>\n",
       "      <td>United States</td>\n",
       "      <td>September 8, 2018</td>\n",
       "      <td>2013</td>\n",
       "      <td>Kids' TV</td>\n",
       "    </tr>\n",
       "    <tr>\n",
       "      <td>3</td>\n",
       "      <td>TV Show</td>\n",
       "      <td>United States</td>\n",
       "      <td>September 8, 2018</td>\n",
       "      <td>2016</td>\n",
       "      <td>Kids' TV</td>\n",
       "    </tr>\n",
       "    <tr>\n",
       "      <td>4</td>\n",
       "      <td>Movie</td>\n",
       "      <td>United States</td>\n",
       "      <td>September 8, 2017</td>\n",
       "      <td>2017</td>\n",
       "      <td>Comedies</td>\n",
       "    </tr>\n",
       "  </tbody>\n",
       "</table>\n",
       "</div>"
      ],
      "text/plain": [
       "      type                                   country         date_added  \\\n",
       "0    Movie  United States, India, South Korea, China  September 9, 2019   \n",
       "1    Movie                            United Kingdom  September 9, 2016   \n",
       "2  TV Show                             United States  September 8, 2018   \n",
       "3  TV Show                             United States  September 8, 2018   \n",
       "4    Movie                             United States  September 8, 2017   \n",
       "\n",
       "   release_year                           listed_in  \n",
       "0          2019  Children & Family Movies, Comedies  \n",
       "1          2016                     Stand-Up Comedy  \n",
       "2          2013                            Kids' TV  \n",
       "3          2016                            Kids' TV  \n",
       "4          2017                            Comedies  "
      ]
     },
     "execution_count": 3,
     "metadata": {},
     "output_type": "execute_result"
    }
   ],
   "source": [
    "#Clean up dataset\n",
    "dataset_1 = dataset.iloc[:, [1,5,6,7,10]]\n",
    "dataset_1.head()"
   ]
  },
  {
   "cell_type": "markdown",
   "metadata": {},
   "source": [
    "## Type of Content Netflix Presents"
   ]
  },
  {
   "cell_type": "code",
   "execution_count": 4,
   "metadata": {},
   "outputs": [
    {
     "name": "stdout",
     "output_type": "stream",
     "text": [
      "Number of movies in Netflix:  4265\n",
      "Number of TV shows in Netflix:  1969\n"
     ]
    }
   ],
   "source": [
    "#Check for unique entry in type\n",
    "dataset_1['type'].unique()\n",
    "#Content Netflix presents is divided into 'Movie' & 'TV Show'\n",
    "\n",
    "#Percentage of each type\n",
    "movie = 0\n",
    "tv = 0\n",
    "number_of_content = dataset_1['type'].count()\n",
    "for types in dataset_1['type']:\n",
    "    if types == 'Movie':\n",
    "        movie = movie + 1\n",
    "    else:\n",
    "        tv = tv + 1\n",
    "\n",
    "movie_per = movie/number_of_content*100\n",
    "tv_per = tv/number_of_content*100\n",
    "\n",
    "print ('Number of movies in Netflix: ', movie)\n",
    "print ('Number of TV shows in Netflix: ', tv)"
   ]
  },
  {
   "cell_type": "code",
   "execution_count": 5,
   "metadata": {},
   "outputs": [
    {
     "data": {
      "image/png": "[encoded data removed]",
      "text/plain": [
       "<Figure size 432x288 with 1 Axes>"
      ]
     },
     "metadata": {},
     "output_type": "display_data"
    }
   ],
   "source": [
    "#Pie chart\n",
    "labels = 'Movies', 'TV Shows'\n",
    "sizes = [movie, tv]\n",
    "explode = (0.1, 0)\n",
    "\n",
    "fig1, ax1 = plt.subplots()\n",
    "ax1.pie(sizes, explode=explode, labels=labels, autopct='%1.1f%%', shadow=True, startangle=90)\n",
    "ax1.axis('equal')\n",
    "\n",
    "plt.show()"
   ]
  },
  {
   "cell_type": "markdown",
   "metadata": {},
   "source": [
    "###### Netflix's shows contain more movies than TV shows"
   ]
  },
  {
   "cell_type": "markdown",
   "metadata": {},
   "source": [
    "## Number of Content Released Each Year"
   ]
  },
  {
   "cell_type": "code",
   "execution_count": 6,
   "metadata": {},
   "outputs": [
    {
     "data": {
      "text/plain": [
       "11"
      ]
     },
     "execution_count": 6,
     "metadata": {},
     "output_type": "execute_result"
    }
   ],
   "source": [
    "#Number of missing data\n",
    "len(dataset_1['date_added']) - dataset_1['date_added'].count()"
   ]
  },
  {
   "cell_type": "code",
   "execution_count": 7,
   "metadata": {},
   "outputs": [
    {
     "data": {
      "image/png": "[encoded data removed]",
      "text/plain": [
       "<Figure size 432x288 with 1 Axes>"
      ]
     },
     "metadata": {
      "needs_background": "light"
     },
     "output_type": "display_data"
    }
   ],
   "source": [
    "#Since there're only 11 missing data in the date_added column, \n",
    "#the shows with missing date added will be dropped\n",
    "date_added = dataset_1['date_added'].dropna()\n",
    "\n",
    "#Extract only the year from date and append to a list 'year'. \n",
    "#The year of 2020 is also excluded since the last update of the whole dataset was Jan 2020,\n",
    "#where only a few shows in 2020 were included\n",
    "years = []\n",
    "for date in date_added:\n",
    "    if date[-4:] != '2020':\n",
    "        years.append(date[-4:])\n",
    "\n",
    "#Number of shows presented in each year\n",
    "showCount = {}\n",
    "uniqueYear = set(years)\n",
    "#Shows count in each year\n",
    "for year in uniqueYear:\n",
    "    showCount[year] = 0\n",
    "    for y in years:\n",
    "        if y == year:\n",
    "            showCount[year] = showCount[year] + 1\n",
    "#Sort showCount dictionary by year\n",
    "showCount = dict(sorted(showCount.items()))\n",
    "\n",
    "#Bar chart\n",
    "x = []\n",
    "for key in showCount.keys():\n",
    "    x.append(key)\n",
    "\n",
    "y = []\n",
    "for value in showCount.values():\n",
    "    y.append(value)\n",
    "\n",
    "import math\n",
    "plt.bar(x, y, color='orange')\n",
    "plt.xlabel('Year')\n",
    "plt.ylabel('Show Count')\n",
    "plt.title('Number of Shows Presented in Each Year')\n",
    "plt.show()"
   ]
  },
  {
   "cell_type": "markdown",
   "metadata": {},
   "source": [
    "###### Netflix's shows have increased over the years. The number of shows was about 10 times more than it had in 2011. The number also increased significantly between 2015 and 2016 due to the company's decision on expanding the streaming service in the globe to include 150 more countries by the end of 2016 [1] . Another singnificant climb in the number of shows from 2016 to 2017 can be explained by the company's annoucement on releasing 1,000 hours of oringinal shows in 2017 [2].\n",
    "\n",
    "###### There's a upward trend since 2015. Hence, we can expect the number of shows presented by Netflix in 2020 and the years onwards to also have an upward trend.\n",
    "\n",
    "###### https://www.nytimes.com/2015/01/21/business/media/netflix-earnings.html [1]\n",
    "###### https://www.businessinsider.com/netflix-to-release-1000-hours-of-originals-in-2017-2016-10 [2]"
   ]
  },
  {
   "cell_type": "markdown",
   "metadata": {},
   "source": [
    "## Number of Movies and TV Shows Presented by Netflix Per Year"
   ]
  },
  {
   "cell_type": "code",
   "execution_count": 8,
   "metadata": {},
   "outputs": [
    {
     "data": {
      "image/png": "[encoded data removed]",
      "text/plain": [
       "<Figure size 432x288 with 1 Axes>"
      ]
     },
     "metadata": {
      "needs_background": "light"
     },
     "output_type": "display_data"
    }
   ],
   "source": [
    "#Remove rows where date_added is missing\n",
    "dataset_2 = dataset_1.dropna(subset=['date_added'])\n",
    "dataset_2.head()\n",
    "\n",
    "showCountPerYear = {}\n",
    "for year in uniqueYear:\n",
    "    typeOfShowPerYear = {'Movie': 0, 'TV Show': 0}\n",
    "    moviePerYear = 0\n",
    "    tvPerYear = 0\n",
    "    for i in range(0,len(dataset_2['date_added'])):\n",
    "        if dataset_2['date_added'][i][-4:] == year:\n",
    "            if dataset_2['type'][i] == 'Movie':\n",
    "                moviePerYear = moviePerYear + 1\n",
    "                typeOfShowPerYear['Movie'] = moviePerYear\n",
    "            else:\n",
    "                tvPerYear = tvPerYear + 1\n",
    "                typeOfShowPerYear['TV Show'] = tvPerYear\n",
    "    showCountPerYear[year] = typeOfShowPerYear\n",
    "showCountPerYear = dict(sorted(showCountPerYear.items()))\n",
    "\n",
    "#Bar Chart\n",
    "barWidth = 0.25\n",
    "\n",
    "y1 = []\n",
    "for value in showCountPerYear.values():\n",
    "    y1.append(value['Movie'])\n",
    "y2 = []\n",
    "for value in showCountPerYear.values():\n",
    "    y2.append(value['TV Show'])\n",
    "x = []\n",
    "for key in showCountPerYear.keys():\n",
    "    x.append(key)\n",
    "\n",
    "r1 = np.arange(len(y1))\n",
    "r2 = [i + barWidth for i in r1]\n",
    "\n",
    "plt.bar(r1, y1, color='orange', width=barWidth, label='Movie')\n",
    "plt.bar(r2, y2, color='blue', width=barWidth, label='TV Show')\n",
    "\n",
    "plt.xlabel('Year')\n",
    "plt.xticks([i + barWidth for i in range(len(y1))], x)\n",
    "\n",
    "plt.legend()\n",
    "plt.show()"
   ]
  },
  {
   "cell_type": "markdown",
   "metadata": {},
   "source": [
    "###### As the graph and data show, Netflix generally has more movies than TV shows for the past years. For the years 2017 - 2019, the number of movies presented is much higher than the number of TV shows presented."
   ]
  },
  {
   "cell_type": "markdown",
   "metadata": {},
   "source": [
    "## Which Category Has the Most Shows in Netflix?"
   ]
  },
  {
   "cell_type": "code",
   "execution_count": 9,
   "metadata": {},
   "outputs": [
    {
     "data": {
      "image/png": "[encoded data removed]",
      "text/plain": [
       "<Figure size 432x288 with 1 Axes>"
      ]
     },
     "metadata": {
      "needs_background": "light"
     },
     "output_type": "display_data"
    }
   ],
   "source": [
    "category_year = dataset_1.dropna(subset=['date_added', 'listed_in'])\n",
    "from datetime import datetime\n",
    "\n",
    "years_added = []\n",
    "for date in category_year['date_added']:\n",
    "    try:\n",
    "        dt = datetime.strptime(date, '%B %d, %Y')\n",
    "    except:\n",
    "        dt = datetime.strptime(date, ' %B %d, %Y')\n",
    "    years_added.append(dt.year)\n",
    "\n",
    "#Choosing the first category to avoid duplications\n",
    "categories = [category.split(', ')[0] for category in dataset_1['listed_in']]\n",
    "#flatten_categories = [item for category in categories for item in category]\n",
    "category_count = {}\n",
    "for unique in set(categories):\n",
    "    count = 0\n",
    "    for category in categories:\n",
    "        if category in unique:\n",
    "            count = count + 1\n",
    "            category_count[unique] = count\n",
    "\n",
    "category_count = dict(sorted(category_count.items(), key=lambda item: item[1], reverse=True))\n",
    "\n",
    "#Bar chart\n",
    "y = category_count.keys()\n",
    "x = category_count.values()\n",
    "y_pos = np.arange(len(y))\n",
    "plt.barh(y_pos, x, align='center', height=0.8)\n",
    "plt.yticks(y_pos, y)\n",
    "plt.gca().invert_yaxis()\n",
    "plt.show()"
   ]
  },
  {
   "cell_type": "markdown",
   "metadata": {},
   "source": [
    "## Shows Presented in Different Countries"
   ]
  },
  {
   "cell_type": "code",
   "execution_count": 10,
   "metadata": {},
   "outputs": [
    {
     "data": {
      "image/png": "[encoded data removed]",
      "text/plain": [
       "<Figure size 432x288 with 1 Axes>"
      ]
     },
     "metadata": {
      "needs_background": "light"
     },
     "output_type": "display_data"
    }
   ],
   "source": [
    "countries = []\n",
    "#Append the valid country list into countries\n",
    "for country in dataset_1['country'].dropna():\n",
    "    countries.append(country.split(','))\n",
    "#Flatten the list into a single list\n",
    "allCountries = [ item for elem in countries for item in elem]\n",
    "#Filter out empty string elements\n",
    "allCountries = list(filter(None, allCountries))\n",
    "#Remove spaces in the front of each country\n",
    "for i in range(0,len(allCountries)):\n",
    "    if allCountries[i][0] == ' ':\n",
    "        allCountries[i] = allCountries[i][1:]\n",
    "uniqueCountries = set(allCountries)\n",
    "numberOfShows = {}\n",
    "for country in uniqueCountries:\n",
    "    num = 0\n",
    "    for c in allCountries:\n",
    "        if c == country:\n",
    "            num = num + 1\n",
    "            numberOfShows[country] = num\n",
    "\n",
    "#Sort dictionary by values in descending order\n",
    "numberOfShows = dict(sorted(numberOfShows.items(), key=lambda item: item[1], reverse=True))\n",
    "import itertools\n",
    "#Since Netflix covers a lot of countries and there's a drastic difference in the number of shows between the US\n",
    "#and the rest of the world, looking at the top 20 countries is able to provide a good insight on the topic\n",
    "numberOfShows_top20 = dict(itertools.islice(numberOfShows.items(), 20))\n",
    "y = numberOfShows_top20.keys()\n",
    "x = numberOfShows_top20.values()\n",
    "y_pos = np.arange(len(y))\n",
    "\n",
    "plt.barh(y_pos, x, align='center')\n",
    "plt.yticks(y_pos, y)\n",
    "plt.gca().invert_yaxis()\n",
    "plt.show()\n"
   ]
  },
  {
   "cell_type": "markdown",
   "metadata": {},
   "source": [
    "###### As the graph shows, the US has a lot more shows available when comparing to other countries. Among the top 20, there are 7 asian countries."
   ]
  },
  {
   "cell_type": "markdown",
   "metadata": {},
   "source": [
    "## Years that Netflix Started to Expend its Service in Asia"
   ]
  },
  {
   "cell_type": "code",
   "execution_count": 11,
   "metadata": {},
   "outputs": [
    {
     "data": {
      "image/png": "[encoded data removed]",
      "text/plain": [
       "<Figure size 432x288 with 1 Axes>"
      ]
     },
     "metadata": {
      "needs_background": "light"
     },
     "output_type": "display_data"
    }
   ],
   "source": [
    "from bs4 import BeautifulSoup\n",
    "import requests\n",
    "\n",
    "#Drop rows where both 'country' and 'date_added' are nan\n",
    "dataset_3 = dataset_1.dropna(subset=['country', 'date_added'])\n",
    "shows_countries = [country.split(',') for country in dataset_3['country']]\n",
    "shows_years = [year[-4:] for year in dataset_3['date_added'] if year[-4:]]\n",
    "\n",
    "#Get all asian countries from the source link\n",
    "asianCountries = []\n",
    "response = requests.get('https://geology.com/world/asia-satellite-image.shtml')\n",
    "soup = BeautifulSoup(response.content, 'lxml')\n",
    "#Scrape the name in text of all the asian countries\n",
    "for country in soup.find_all('div', {'class': 'max780'}):\n",
    "    name = country.find_all('a')\n",
    "    for i in name:\n",
    "        asianCountries.append(i.getText())\n",
    "#Filter out empty string elements\n",
    "asianCountries = list(filter(None, asianCountries))\n",
    "#Filter out non-country elements\n",
    "asianCountries = asianCountries[:-6]\n",
    "#Clear out spaces in front of country names\n",
    "new_asianCountries = [country[1:] if country[0] == ' ' else country for country in asianCountries]\n",
    "#Drop all empty strings and spaces in front of country names\n",
    "new_shows_countries = []\n",
    "for country in shows_countries:\n",
    "    new_country = []\n",
    "    country = list(filter(None, country))\n",
    "    for c in country:\n",
    "        if c[0] == ' ':\n",
    "            new_country.append(c[1:])\n",
    "        else:\n",
    "            new_country.append(c)\n",
    "    new_shows_countries.append(new_country)\n",
    "\n",
    "for country in new_shows_countries[:]:\n",
    "    for c in country[:]:\n",
    "        if c not in new_asianCountries:\n",
    "            country.remove(c)\n",
    "            \n",
    "netflix_asia = {}\n",
    "for year in set(shows_years):\n",
    "    count = 0\n",
    "    for i in range(0,len(new_shows_countries)):\n",
    "        if new_shows_countries[i] and shows_years[i]==year:\n",
    "            count = count + 1\n",
    "        netflix_asia[year] = count\n",
    "netflix_asia = dict(sorted(netflix_asia.items()))\n",
    "del netflix_asia['2020']\n",
    "\n",
    "#Bar chart\n",
    "x = [key for key in netflix_asia.keys() if netflix_asia[key] > 0]\n",
    "y = [value for value in netflix_asia.values() if value > 0]\n",
    "plt.bar(x, y, color='orange')\n",
    "plt.xlabel('Years')\n",
    "plt.ylabel('Quantities')\n",
    "plt.title('Quantity of Shows in Asian Countries Over Past Years')\n",
    "plt.show()"
   ]
  },
  {
   "cell_type": "markdown",
   "metadata": {},
   "source": [
    "###### Netflix started its service in Asia in 2015. The quantities of shows increased significantly from 2016 to 2017."
   ]
  },
  {
   "cell_type": "markdown",
   "metadata": {},
   "source": [
    "## Is Netflix Making the Right Choice in Choosing What Shows to be Presented?"
   ]
  },
  {
   "cell_type": "code",
   "execution_count": 12,
   "metadata": {},
   "outputs": [],
   "source": [
    "dataset_4 = dataset.iloc[:,[2,3,4]].dropna(subset=['title', 'director', 'cast'])\n",
    "dataset_4.reset_index(drop=True, inplace=True)\n",
    "directors = [director.split(',') for director in dataset_4['director']]\n",
    "casts = [cast.split(',') for cast in dataset_4['cast']]\n",
    "\n",
    "#Clean out empty spaces in front of the director/cast name\n",
    "for i in range(0,len(directors)):\n",
    "    for j in range(0,len(directors[i])):\n",
    "        if directors[i][j][0] == ' ':\n",
    "            directors[i][j] = directors[i][j][1:]\n",
    "            \n",
    "for i in range(0,len(casts)):\n",
    "    for j in range(0,len(casts[i])):\n",
    "        if casts[i][j][0] == ' ':\n",
    "            casts[i][j] = casts[i][j][1:]\n",
    "\n",
    "#Permute directors and casts for each show\n",
    "from itertools import product, chain\n",
    "directors_casts = []\n",
    "for i in range(0,len(directors)):\n",
    "    directors_casts.append(map(','.join, product(directors[i], casts[i])))\n",
    "\n",
    "#Turn map object into list\n",
    "for i in range(0,len(directors_casts)):\n",
    "    directors_casts[i] = [*directors_casts[i]]\n",
    "\n",
    "from collections import Counter\n",
    "#Flatten the nested list\n",
    "directors_casts_freq = {k:v for k,v in Counter(chain(*[i for i in directors_casts])).items()}\n",
    "#Count the appearance of each director/cast combination\n",
    "directors_casts_freq = dict(sorted(directors_casts_freq.items(), key=lambda item:item[1], reverse=True))\n",
    "#directors_casts_freq"
   ]
  },
  {
   "cell_type": "code",
   "execution_count": 13,
   "metadata": {},
   "outputs": [],
   "source": [
    "title_most_freq_combination = []\n",
    "#Return unique title in which its director/cast involves in more than 5 shows\n",
    "#listed on Netflix\n",
    "for key in directors_casts_freq.keys():\n",
    "    if directors_casts_freq[key] >= 5:\n",
    "        combination = key.split(',')\n",
    "        for i in range(0,len(dataset_4)):\n",
    "            if combination[0] in dataset_4['director'][i].split(', ') and combination[1] in dataset_4['cast'][i].split(', '):\n",
    "                title_most_freq_combination.append(dataset_4['title'][i])\n",
    "\n",
    "import re\n",
    "#Removie duplicate shows in different languages\n",
    "for i in range(0,len(title_most_freq_combination)):\n",
    "    if 'Version' in title_most_freq_combination[i]:\n",
    "        title_most_freq_combination[i] = re.sub(r'\\(.*?\\)', '', title_most_freq_combination[i])\n",
    "movies = set(title_most_freq_combination)\n",
    "\n",
    "import string\n",
    "movie_search = [movie.translate(str.maketrans('', '', string.punctuation)).replace(' ', '+') for movie in movies]\n",
    "#Scraping links from IMDB\n",
    "def imdb_ratings(list):\n",
    "    l2 = []\n",
    "    for l in list:\n",
    "        response = requests.get('https://www.imdb.com/find?q=' + l)\n",
    "        soup = BeautifulSoup(response.content, 'lxml')\n",
    "        try:\n",
    "            header = soup.find_all('h3', {'class': 'findSectionHeader'})\n",
    "            section = soup.find_all('div', {'class': 'findSection'})\n",
    "            if header[0].getText() == 'Names':\n",
    "                section = section[1]\n",
    "            else:\n",
    "                section = section[0]\n",
    "            title = section.find_all('td', {'class': 'result_text'})[0]\n",
    "            link = title.find_all('a', href=True)[0]['href']\n",
    "            full_url = 'http://imdb.com' + link\n",
    "            l2.append(full_url)\n",
    "        except:\n",
    "            pass\n",
    "    return l2\n",
    "valid_movie_urls = imdb_ratings(movie_search)"
   ]
  },
  {
   "cell_type": "code",
   "execution_count": 14,
   "metadata": {},
   "outputs": [],
   "source": [
    "ratings = []\n",
    "#Scraping ratings from IMDB\n",
    "for url in valid_movie_urls:\n",
    "    response = requests.get(url)\n",
    "    soup = BeautifulSoup(response.content, 'lxml')\n",
    "    try:\n",
    "        rating = soup.find('span', {'itemprop': 'ratingValue'}).getText()\n",
    "    except:\n",
    "        pass\n",
    "    ratings.append(float(rating))"
   ]
  },
  {
   "cell_type": "code",
   "execution_count": 15,
   "metadata": {},
   "outputs": [
    {
     "name": "stdout",
     "output_type": "stream",
     "text": [
      "6.654545454545455\n"
     ]
    },
    {
     "data": {
      "image/png": "[encoded data removed]",
      "text/plain": [
       "<Figure size 432x288 with 1 Axes>"
      ]
     },
     "metadata": {
      "needs_background": "light"
     },
     "output_type": "display_data"
    }
   ],
   "source": [
    "#q25, q75 = np.percentile(ratings, [.25, .75])\n",
    "#bin_width = 2*(q75 - q25)*len(ratings)**(-1/3)\n",
    "#bins = int(round((max(ratings)-min(ratings))/bin_width))\n",
    "print(sum(ratings)/len(ratings))\n",
    "#Histogram \n",
    "bins = np.array([3,4,5,6,7,8])\n",
    "plt.hist(ratings, bins = bins, width=0.99)\n",
    "plt.ylabel('Quantity')\n",
    "plt.xlabel('Rating')\n",
    "plt.show()"
   ]
  },
  {
   "cell_type": "markdown",
   "metadata": {},
   "source": [
    "###### The data above analyzes whether Netflix is making the right choice in choosing their shows. The analysis looks into how many shows on Netflix are a director/actor combo involed in. \n",
    "###### If a director/actor combo appears in more than or equal to a number of shows, it is considered to be a popular combo. If Netflix acquires more shows that involve such combo, those shows may be more appealing to viewers. Hence, providing more viewership. For this analysis, the threshold, which is the number of shows, is set to 5.\n",
    "###### As the ratings from IMDB show, more shows fall within the 6.0 - 8.0 range with an average of 6.5. The average rating is not high enough to indicate that viewers love the shows with popular combo. "
   ]
  }
 ],
 "metadata": {
  "kernelspec": {
   "display_name": "Python 3",
   "language": "python",
   "name": "python3"
  },
  "language_info": {
   "codemirror_mode": {
    "name": "ipython",
    "version": 3
   },
   "file_extension": ".py",
   "mimetype": "text/x-python",
   "name": "python",
   "nbconvert_exporter": "python",
   "pygments_lexer": "ipython3",
   "version": "3.7.4"
  }
 },
 "nbformat": 4,
 "nbformat_minor": 4
}
